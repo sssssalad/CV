{
 "cells": [
  {
   "cell_type": "code",
   "execution_count": 1,
   "metadata": {
    "ExecuteTime": {
     "end_time": "2022-11-22T13:05:52.427769Z",
     "start_time": "2022-11-22T13:05:51.605233Z"
    }
   },
   "outputs": [],
   "source": [
    "import numpy as np\n",
    "import matplotlib.pyplot as plt\n",
    "import cv2\n",
    "from skimage import data"
   ]
  },
  {
   "cell_type": "markdown",
   "metadata": {},
   "source": [
    "#### 灰度共生矩阵\n",
    "\n",
    "通过计算灰度图像得到它的共生矩阵，然后透过计算这个共生矩阵得到矩阵的部分特征值，来分别代表图像的某些纹理特征。\n",
    "\n",
    "灰度共生矩阵能反映图像灰度关于方向、相邻间隔、变化幅度的综合信息，它是分析图像的局部模式和它们排列规则的基础。"
   ]
  },
  {
   "cell_type": "code",
   "execution_count": 2,
   "metadata": {
    "ExecuteTime": {
     "end_time": "2022-11-22T13:05:52.454312Z",
     "start_time": "2022-11-22T13:05:52.427769Z"
    }
   },
   "outputs": [],
   "source": [
    "def main():\n",
    "    pass\n",
    "\n",
    "\n",
    "def fast_glcm(img, vmin=0, vmax=255, nbit=8, kernel_size=5):\n",
    "    \"\"\"通过条件概率算出像素点对之间的联系\"\"\"\n",
    "    mi, ma = vmin, vmax\n",
    "    ks = kernel_size\n",
    "    h,w = img.shape\n",
    "\n",
    "    # digitize数字化\n",
    "    bins = np.linspace(mi, ma+1, nbit+1)\n",
    "    gl1 = np.digitize(img, bins) - 1\n",
    "    gl2 = np.append(gl1[:,1:], gl1[:,-1:], axis=1)\n",
    "\n",
    "    # make glcm\n",
    "    glcm = np.zeros((nbit, nbit, h, w), dtype=np.uint8)\n",
    "    for i in range(nbit):\n",
    "        for j in range(nbit):\n",
    "            mask = ((gl1==i) & (gl2==j))\n",
    "            glcm[i,j, mask] = 1\n",
    "\n",
    "    kernel = np.ones((ks, ks), dtype=np.uint8)\n",
    "    for i in range(nbit):\n",
    "        for j in range(nbit):\n",
    "            glcm[i,j] = cv2.filter2D(glcm[i,j], -1, kernel)\n",
    "\n",
    "    glcm = glcm.astype(np.float32)\n",
    "    return glcm"
   ]
  },
  {
   "cell_type": "code",
   "execution_count": 3,
   "metadata": {
    "ExecuteTime": {
     "end_time": "2022-11-22T13:05:52.470099Z",
     "start_time": "2022-11-22T13:05:52.456101Z"
    }
   },
   "outputs": [],
   "source": [
    "def fast_glcm_mean(img, vmin=0, vmax=255, nbit=8, ks=5):\n",
    "    '''\n",
    "    calc glcm mean，提取灰度共生矩阵的统计特征：均值\n",
    "    '''\n",
    "    h,w = img.shape\n",
    "    glcm = fast_glcm(img, vmin, vmax, nbit, ks)\n",
    "    mean = np.zeros((h,w), dtype=np.float32)\n",
    "    for i in range(nbit):\n",
    "        for j in range(nbit):\n",
    "            mean += glcm[i,j] * i / (nbit)**2\n",
    "\n",
    "    return mean\n",
    "\n",
    "\n",
    "def fast_glcm_std(img, vmin=0, vmax=255, nbit=8, ks=5):\n",
    "    '''\n",
    "    calc glcm std，，提取灰度共生矩阵的统计特征：平方差\n",
    "    '''\n",
    "    h,w = img.shape\n",
    "    glcm = fast_glcm(img, vmin, vmax, nbit, ks)\n",
    "    mean = np.zeros((h,w), dtype=np.float32)\n",
    "    for i in range(nbit):\n",
    "        for j in range(nbit):\n",
    "            mean += glcm[i,j] * i / (nbit)**2\n",
    "\n",
    "    std2 = np.zeros((h,w), dtype=np.float32)\n",
    "    for i in range(nbit):\n",
    "        for j in range(nbit):\n",
    "            std2 += (glcm[i,j] * i - mean)**2\n",
    "\n",
    "    std = np.sqrt(std2)\n",
    "    return std\n",
    "\n",
    "\n",
    "def fast_glcm_contrast(img, vmin=0, vmax=255, nbit=8, ks=5):\n",
    "    '''\n",
    "    calc glcm contrast，反差。\n",
    "    对比度，度量矩阵的值是如何分布和图像中局部变化的多少，\n",
    "    反应了图像的清晰度和纹理的沟纹深浅。\n",
    "    纹理的沟纹越深，反差越大，效果清晰；反之，对比值小，则沟纹浅，效果模糊。\n",
    "    '''\n",
    "    h,w = img.shape\n",
    "    glcm = fast_glcm(img, vmin, vmax, nbit, ks)\n",
    "    cont = np.zeros((h,w), dtype=np.float32)\n",
    "    for i in range(nbit):\n",
    "        for j in range(nbit):\n",
    "            cont += glcm[i,j] * (i-j)**2\n",
    "\n",
    "    return cont\n",
    "\n",
    "\n",
    "def fast_glcm_dissimilarity(img, vmin=0, vmax=255, nbit=8, ks=5):\n",
    "    '''\n",
    "    calc glcm dissimilarity，不相似度\n",
    "    '''\n",
    "    h,w = img.shape\n",
    "    glcm = fast_glcm(img, vmin, vmax, nbit, ks)\n",
    "    diss = np.zeros((h,w), dtype=np.float32)\n",
    "    for i in range(nbit):\n",
    "        for j in range(nbit):\n",
    "            diss += glcm[i,j] * np.abs(i-j)\n",
    "\n",
    "    return diss\n",
    "\n",
    "\n",
    "def fast_glcm_homogeneity(img, vmin=0, vmax=255, nbit=8, ks=5):\n",
    "    '''\n",
    "    calc glcm homogeneity，相关性\n",
    "    '''\n",
    "    h,w = img.shape\n",
    "    glcm = fast_glcm(img, vmin, vmax, nbit, ks)\n",
    "    homo = np.zeros((h,w), dtype=np.float32)\n",
    "    for i in range(nbit):\n",
    "        for j in range(nbit):\n",
    "            homo += glcm[i,j] / (1.+(i-j)**2)\n",
    "\n",
    "    return homo"
   ]
  },
  {
   "cell_type": "code",
   "execution_count": 4,
   "metadata": {
    "ExecuteTime": {
     "end_time": "2022-11-22T13:05:52.486012Z",
     "start_time": "2022-11-22T13:05:52.472160Z"
    }
   },
   "outputs": [],
   "source": [
    "def fast_glcm_ASM(img, vmin=0, vmax=255, nbit=8, ks=5):\n",
    "    '''\n",
    "    calc glcm asm, energy，能量。\n",
    "    灰度共生矩阵各元素值的平方和，是对图像纹理的灰度变化稳定程度的度量，\n",
    "    反应了图像灰度分布均匀程度和纹理粗细度。\n",
    "    能量值大表明当前纹理是一种规则变化较为稳定的纹理。   \n",
    "    '''\n",
    "    h,w = img.shape\n",
    "    glcm = fast_glcm(img, vmin, vmax, nbit, ks)\n",
    "    asm = np.zeros((h,w), dtype=np.float32)\n",
    "    for i in range(nbit):\n",
    "        for j in range(nbit):\n",
    "            asm  += glcm[i,j]**2\n",
    "\n",
    "    ene = np.sqrt(asm)\n",
    "    return asm, ene\n",
    "\n",
    "\n",
    "def fast_glcm_max(img, vmin=0, vmax=255, nbit=8, ks=5):\n",
    "    '''\n",
    "    calc glcm max：最大值\n",
    "    '''\n",
    "    glcm = fast_glcm(img, vmin, vmax, nbit, ks)\n",
    "    max_  = np.max(glcm, axis=(0,1))\n",
    "    return max_\n",
    "\n",
    "\n",
    "def fast_glcm_entropy(img, vmin=0, vmax=255, nbit=8, ks=5):\n",
    "    '''\n",
    "    calc glcm entropy：熵：图像包含信息量的随机性度量。\n",
    "    当共生矩阵中所有值均相等或者像素值表现出最大的随机性时，熵最大；\n",
    "    熵值表明了图像灰度分布的复杂程度，熵值越大，图像越复杂。\n",
    "    '''\n",
    "    glcm = fast_glcm(img, vmin, vmax, nbit, ks)\n",
    "    pnorm = glcm / np.sum(glcm, axis=(0,1)) + 1./ks**2\n",
    "    ent  = np.sum(-pnorm * np.log(pnorm), axis=(0,1))\n",
    "    return ent"
   ]
  },
  {
   "cell_type": "code",
   "execution_count": 5,
   "metadata": {
    "ExecuteTime": {
     "end_time": "2022-11-22T13:05:53.074562Z",
     "start_time": "2022-11-22T13:05:52.487977Z"
    }
   },
   "outputs": [],
   "source": [
    "if __name__ == '__main__':\n",
    "    main()\n",
    "\n",
    "    nbit = 8\n",
    "    ks = 5\n",
    "    mi, ma = 0, 255\n",
    "\n",
    "    img = data.camera()\n",
    "    h,w = img.shape\n",
    "\n",
    "    img[:,:w//2] = img[:,:w//2]//2+127\n",
    "    glcm_mean = fast_glcm_mean(img, mi, ma, nbit, ks)"
   ]
  },
  {
   "cell_type": "code",
   "execution_count": null,
   "metadata": {},
   "outputs": [],
   "source": []
  }
 ],
 "metadata": {
  "kernelspec": {
   "display_name": "Python 3",
   "language": "python",
   "name": "python3"
  },
  "language_info": {
   "codemirror_mode": {
    "name": "ipython",
    "version": 3
   },
   "file_extension": ".py",
   "mimetype": "text/x-python",
   "name": "python",
   "nbconvert_exporter": "python",
   "pygments_lexer": "ipython3",
   "version": "3.7.0"
  }
 },
 "nbformat": 4,
 "nbformat_minor": 2
}
