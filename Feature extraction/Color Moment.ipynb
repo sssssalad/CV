{
 "cells": [
  {
   "cell_type": "code",
   "execution_count": 2,
   "metadata": {
    "ExecuteTime": {
     "end_time": "2022-11-23T02:25:23.974927Z",
     "start_time": "2022-11-23T02:25:23.406146Z"
    }
   },
   "outputs": [],
   "source": [
    "from PIL import Image\n",
    "import numpy as np\n",
    "import os"
   ]
  },
  {
   "attachments": {},
   "cell_type": "markdown",
   "metadata": {},
   "source": [
    "#### **颜色矩**是一种简单有效的颜色特征表示方法\n",
    " >- 这种方法的数学基础在于图像中任何的颜色分布均可以用它的矩来表示\n",
    " >> - 有**一阶矩(均值,mean)**、**二阶矩(方差,viarance)** 和 **三阶矩(斜度,skewness)** 等\n",
    " >> - 由于颜色信息主要分布于低阶矩中，用一阶矩，二阶矩和三阶矩足以 **表达图像的颜色分布** \n",
    " >- 图像的颜色矩一共只需要9个分量（3个颜色分量，每个分量上3个低阶矩）\n",
    " >\n",
    " >>- 优点：不需要颜色空间量化，特征向量维数低\n",
    " >>- 弱点：检索效率比低（分辨能力较弱），在实际应用中往往用来过滤图像以缩小检索范围"
   ]
  },
  {
   "cell_type": "code",
   "execution_count": 10,
   "metadata": {
    "ExecuteTime": {
     "end_time": "2022-11-23T02:26:45.074124Z",
     "start_time": "2022-11-23T02:26:45.065978Z"
    }
   },
   "outputs": [],
   "source": [
    "\"\"\"\n",
    "#r通道的一阶颜色矩\n",
    "rd_1 = rd.mean()\n",
    " \n",
    "#r通道的二阶颜色矩\n",
    "rd_2 = rd.std()\n",
    "\"\"\"\n",
    "#定义一个求三阶颜色矩(斜度)的函数\n",
    "def var(x=None):\n",
    "    mid = np.mean(((x - x.mean()) ** 3))\n",
    "    return np.sign(mid) * abs(mid) ** (1/3)\n",
    "\n",
    "#批量求一个文件夹下所有图片的各阶颜色矩： \n",
    "def getimagedata(path):\n",
    "    filename = os.listdir(path)\n",
    "    n = len(filename) #文件夹中的图片个数\n",
    "    data = np.zeros([n,9]) #n行9列的矩阵，每一列为一张图片的9个分量\n",
    "    for i in range(n):\n",
    "        img = Image.open(path +'\\\\'+ filename[i])\n",
    "        #img = Image.open(path)\n",
    "        M,N = img.size \n",
    "        r,g,b = img.split() #将红绿蓝三种通道分离\n",
    "        rd = np.asarray(r) #将结构数据转化为ndarray\n",
    "        gd = np.asarray(g)\n",
    "        bd = np.asarray(b)\n",
    "        data[i,0] = rd.mean()\n",
    "        data[i,1] = gd.mean()\n",
    "        data[i,2] = bd.mean()\n",
    "        data[i,3] = rd.std()\n",
    "        data[i,4] = gd.std()\n",
    "        data[i,5] = bd.std()\n",
    "        data[i,6] = var(rd)\n",
    "        data[i,7] = var(gd)\n",
    "        data[i,8] = var(bd)\n",
    "    return data"
   ]
  },
  {
   "cell_type": "code",
   "execution_count": 16,
   "metadata": {
    "ExecuteTime": {
     "end_time": "2022-11-23T02:29:19.543611Z",
     "start_time": "2022-11-23T02:29:19.501244Z"
    }
   },
   "outputs": [],
   "source": [
    "if __name__=='__main__':\n",
    "    a = getimagedata(\"D:/Code/Ipynb/CV/Feature extraction/picture\")"
   ]
  },
  {
   "cell_type": "code",
   "execution_count": 12,
   "metadata": {},
   "outputs": [
    {
     "name": "stdout",
     "output_type": "stream",
     "text": [
      "[[154.14373398 109.17459488  91.60387421  67.95805353  62.70406913\n",
      "   55.31082215 -60.35758981  37.98212605  48.61596477]]\n"
     ]
    }
   ],
   "source": [
    "print(a) #图片的三阶颜色矩（9个分量）"
   ]
  },
  {
   "cell_type": "code",
   "execution_count": null,
   "metadata": {},
   "outputs": [],
   "source": []
  }
 ],
 "metadata": {
  "kernelspec": {
   "display_name": "Python 3",
   "language": "python",
   "name": "python3"
  },
  "language_info": {
   "codemirror_mode": {
    "name": "ipython",
    "version": 3
   },
   "file_extension": ".py",
   "mimetype": "text/x-python",
   "name": "python",
   "nbconvert_exporter": "python",
   "pygments_lexer": "ipython3",
   "version": "3.7.0"
  }
 },
 "nbformat": 4,
 "nbformat_minor": 2
}
