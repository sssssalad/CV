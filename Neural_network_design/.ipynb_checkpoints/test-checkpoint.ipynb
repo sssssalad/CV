{
 "cells": [
  {
   "cell_type": "code",
   "execution_count": 1,
   "metadata": {
    "ExecuteTime": {
     "end_time": "2022-10-29T02:12:21.925236Z",
     "start_time": "2022-10-29T02:12:20.584585Z"
    }
   },
   "outputs": [
    {
     "name": "stdout",
     "output_type": "stream",
     "text": [
      "[[0.68887545]\n",
      " [0.52914069]\n",
      " [0.4922095 ]]\n"
     ]
    }
   ],
   "source": [
    "import neural_network\n",
    "#导入neural_network.py,使用该文件中定义的类\n",
    "\n",
    "input_nodes=3\n",
    "\n",
    "hidden_nodes=3\n",
    "\n",
    "output_nodes=3\n",
    "\n",
    "learning_rate=0.3\n",
    "\n",
    "#构建NeuralNetwork类\n",
    "n = neural_network.NeuralNetwork(input_nodes, hidden_nodes, output_nodes, learning_rate)\n",
    "\n",
    "#输入用于测试的数据，输出经过模型得到的结果\n",
    "print(n.testing([1.0, 0.5, -1.5]))"
   ]
  },
  {
   "cell_type": "code",
   "execution_count": null,
   "metadata": {},
   "outputs": [],
   "source": []
  }
 ],
 "metadata": {
  "kernelspec": {
   "display_name": "Python 3",
   "language": "python",
   "name": "python3"
  },
  "language_info": {
   "codemirror_mode": {
    "name": "ipython",
    "version": 3
   },
   "file_extension": ".py",
   "mimetype": "text/x-python",
   "name": "python",
   "nbconvert_exporter": "python",
   "pygments_lexer": "ipython3",
   "version": "3.7.0"
  }
 },
 "nbformat": 4,
 "nbformat_minor": 2
}
