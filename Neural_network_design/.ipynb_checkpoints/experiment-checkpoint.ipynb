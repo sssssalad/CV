{
 "cells": [
  {
   "cell_type": "markdown",
   "metadata": {},
   "source": [
    "### import"
   ]
  },
  {
   "cell_type": "code",
   "execution_count": 1,
   "metadata": {
    "ExecuteTime": {
     "end_time": "2022-11-04T01:35:45.727597Z",
     "start_time": "2022-11-04T01:35:41.652158Z"
    }
   },
   "outputs": [],
   "source": [
    "import neural_network as nn\n",
    "#导入neural_network.py,使用该文件中定义的类\n",
    "import numpy\n",
    "import time\n",
    "from tensorflow import keras\n",
    "\n",
    "# 便于计算执行时间\n",
    "start = time.process_time()"
   ]
  },
  {
   "cell_type": "markdown",
   "metadata": {},
   "source": [
    "### init"
   ]
  },
  {
   "cell_type": "code",
   "execution_count": 2,
   "metadata": {
    "ExecuteTime": {
     "end_time": "2022-11-04T01:35:45.755750Z",
     "start_time": "2022-11-04T01:35:45.727597Z"
    }
   },
   "outputs": [],
   "source": [
    "# 指定神经网络的结构。隐藏层节点个数不唯一\n",
    "input_nodes, hidden_nodes, output_nodes = 1024, 300, 10\n",
    "\n",
    "# 指定权重更新的学习率\n",
    "learning_rate = 0.1\n",
    "\n",
    "# 创建神经网络的实例\n",
    "network = nn.NeuralNetwork(input_nodes, hidden_nodes, output_nodes, learning_rate)"
   ]
  },
  {
   "cell_type": "markdown",
   "metadata": {},
   "source": [
    "### load dataset 500-train 100-test"
   ]
  },
  {
   "cell_type": "code",
   "execution_count": 3,
   "metadata": {
    "ExecuteTime": {
     "end_time": "2022-11-04T01:35:46.898958Z",
     "start_time": "2022-11-04T01:35:45.755750Z"
    }
   },
   "outputs": [],
   "source": [
    "\"\"\"导入训练数据集\"\"\"\n",
    "(x,y_train),(Xt,y_test) = keras.datasets.cifar10.load_data()\n",
    "#10个类别，60000个32×32像素图像，50000个用于训练，10000个用于测试\n",
    "x=x[:500]\n",
    "y_train=y_train[:500]\n",
    "Xt=Xt[:100]\n",
    "y_test=y_test[:100]"
   ]
  },
  {
   "cell_type": "markdown",
   "metadata": {},
   "source": [
    "### BGR2GARY 3通道转单通道"
   ]
  },
  {
   "cell_type": "code",
   "execution_count": 4,
   "metadata": {
    "ExecuteTime": {
     "end_time": "2022-11-04T01:35:46.952708Z",
     "start_time": "2022-11-04T01:35:46.898958Z"
    }
   },
   "outputs": [],
   "source": [
    "import cv2\n",
    "\n",
    "X_train=[]\n",
    "for img in x:\n",
    "\n",
    "    resized_img = cv2.cvtColor(img, cv2.COLOR_BGR2GRAY)\n",
    "    X_train.append(resized_img)\n",
    "    \n",
    "X_train = numpy.array(X_train)\n",
    "\n",
    "X_test=[]\n",
    "for img in Xt:\n",
    "\n",
    "    resized_img = cv2.cvtColor(img, cv2.COLOR_BGR2GRAY)\n",
    "    X_test.append(resized_img)\n",
    "    \n",
    "X_test = numpy.array(X_test)\n",
    "\n"
   ]
  },
  {
   "cell_type": "markdown",
   "metadata": {},
   "source": [
    "### reshape 二维转一维"
   ]
  },
  {
   "cell_type": "code",
   "execution_count": 5,
   "metadata": {
    "ExecuteTime": {
     "end_time": "2022-11-04T01:35:46.968403Z",
     "start_time": "2022-11-04T01:35:46.952708Z"
    }
   },
   "outputs": [],
   "source": [
    "X_train = X_train.reshape(500,1024)\n",
    "X_test = X_test.reshape(100,1024)"
   ]
  },
  {
   "cell_type": "code",
   "execution_count": 6,
   "metadata": {
    "ExecuteTime": {
     "end_time": "2022-11-04T01:35:47.000403Z",
     "start_time": "2022-11-04T01:35:46.968403Z"
    }
   },
   "outputs": [
    {
     "data": {
      "text/plain": [
       "(500, 1024)"
      ]
     },
     "execution_count": 6,
     "metadata": {},
     "output_type": "execute_result"
    }
   ],
   "source": [
    "X_train.shape"
   ]
  },
  {
   "cell_type": "code",
   "execution_count": 7,
   "metadata": {
    "ExecuteTime": {
     "end_time": "2022-11-04T01:35:47.024404Z",
     "start_time": "2022-11-04T01:35:47.000403Z"
    }
   },
   "outputs": [
    {
     "data": {
      "text/plain": [
       "1024"
      ]
     },
     "execution_count": 7,
     "metadata": {},
     "output_type": "execute_result"
    }
   ],
   "source": [
    "len(X_train[0])"
   ]
  },
  {
   "cell_type": "code",
   "execution_count": 8,
   "metadata": {
    "ExecuteTime": {
     "end_time": "2022-11-04T01:35:47.040403Z",
     "start_time": "2022-11-04T01:35:47.024404Z"
    }
   },
   "outputs": [
    {
     "data": {
      "text/plain": [
       "1024"
      ]
     },
     "execution_count": 8,
     "metadata": {},
     "output_type": "execute_result"
    }
   ],
   "source": [
    "len(X_train[1])"
   ]
  },
  {
   "cell_type": "markdown",
   "metadata": {},
   "source": [
    "### train"
   ]
  },
  {
   "cell_type": "code",
   "execution_count": 9,
   "metadata": {
    "ExecuteTime": {
     "end_time": "2022-11-04T01:36:13.244638Z",
     "start_time": "2022-11-04T01:35:47.040403Z"
    }
   },
   "outputs": [],
   "source": [
    "# 训练神经网络，epochs次数\n",
    "epochs = 16\n",
    "\n",
    "for e in range(epochs):\n",
    "    for i in range(500):\n",
    "        # 缩放输入\n",
    "        #asfarray()将数据转换为浮点类型数组\n",
    "        X_train_scaled = (numpy.asfarray(X_train[i]) / 255.0 * 0.99) + 0.01\n",
    "       \n",
    "        # 创建目标输出\n",
    "        #one hot \n",
    "        targets = numpy.zeros(output_nodes) + 0.01\n",
    "        #把标签对应的类别数值写为0.99，其他类别写为0.01\n",
    "        #如标签为1，targets=[0.99,0.01,...,0.01]\n",
    "        targets[int(y_train[i])] = 0.99\n",
    "        network.training(X_train_scaled,targets)\n",
    "        pass\n",
    "    pass"
   ]
  },
  {
   "cell_type": "markdown",
   "metadata": {},
   "source": [
    "### test"
   ]
  },
  {
   "cell_type": "code",
   "execution_count": 10,
   "metadata": {
    "ExecuteTime": {
     "end_time": "2022-11-04T01:36:13.292641Z",
     "start_time": "2022-11-04T01:36:13.244638Z"
    }
   },
   "outputs": [],
   "source": [
    "# 测试训练好的神经网络\n",
    "# 初始化一个数据结构用于记录神经网络的表现\n",
    "scorecard = []\n",
    "#计分表（数组形式），判断是否相等后append上1或0\n",
    "\n",
    "# 遍历测试数据集\n",
    "for i in range(100):\n",
    "    # 打印预期输出\n",
    "    correct_label = int(y_test[i] )\n",
    "    \n",
    "    # 查询神经网络\n",
    "    inputs = (numpy.asfarray(X_test[i])/255.0 * 0.99) + 0.01\n",
    "    outputs = network.testing(inputs)\n",
    "    answer = numpy.argmax(outputs)\n",
    "    \n",
    "    # 更新神经网络的表现\n",
    "    if answer == correct_label:\n",
    "        scorecard.append(1)\n",
    "    else:\n",
    "        scorecard.append(0)\n",
    "        pass\n",
    "    pass"
   ]
  },
  {
   "cell_type": "code",
   "execution_count": 11,
   "metadata": {
    "ExecuteTime": {
     "end_time": "2022-11-04T01:36:13.308672Z",
     "start_time": "2022-11-04T01:36:13.292641Z"
    }
   },
   "outputs": [
    {
     "name": "stdout",
     "output_type": "stream",
     "text": [
      "time:  36.578125\n",
      "performance:  0.19\n"
     ]
    }
   ],
   "source": [
    "# 打印得分及运行时间\n",
    "print(\"time: \", time.process_time()-start)\n",
    "print(\"performance: \", sum(scorecard) / len(scorecard))"
   ]
  },
  {
   "cell_type": "code",
   "execution_count": null,
   "metadata": {},
   "outputs": [],
   "source": []
  }
 ],
 "metadata": {
  "kernelspec": {
   "display_name": "Python 3",
   "language": "python",
   "name": "python3"
  },
  "language_info": {
   "codemirror_mode": {
    "name": "ipython",
    "version": 3
   },
   "file_extension": ".py",
   "mimetype": "text/x-python",
   "name": "python",
   "nbconvert_exporter": "python",
   "pygments_lexer": "ipython3",
   "version": "3.7.0"
  }
 },
 "nbformat": 4,
 "nbformat_minor": 2
}
